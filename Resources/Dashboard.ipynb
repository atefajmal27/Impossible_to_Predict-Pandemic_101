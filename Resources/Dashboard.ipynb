{
 "cells": [
  {
   "cell_type": "code",
<<<<<<< HEAD
   "execution_count": 9,
=======
<<<<<<< HEAD
<<<<<<< HEAD
=======
   "execution_count": 3,
   "metadata": {},
   "outputs": [],
   "source": [
    "import os\n",
    "import pandas as pd\n",
    "from pathlib import Path\n",
    "from dotenv import load_dotenv\n",
    "\n",
    "%matplotlib inline"
=======
   "execution_count": 5,
>>>>>>> e99051600d5ded51646cf49b12aaaf7a249448e1
   "metadata": {},
   "outputs": [],
   "source": [
    "# initial imports\n",
    "import os\n",
    "import pandas as pd\n",
    "import matplotlib.pyplot as plt\n",
    "import panel as pn\n",
    "import plotly.express as px\n",
    "from pathlib import Path\n",
    "from dotenv import load_dotenv"
>>>>>>> c047ff522d839d6516657cff3bb7a00fe3728485
   ]
  },
  {
   "cell_type": "code",
<<<<<<< HEAD
   "execution_count": 10,
=======
<<<<<<< HEAD
   "execution_count": 4,
=======
   "execution_count": 7,
>>>>>>> e99051600d5ded51646cf49b12aaaf7a249448e1
   "metadata": {},
   "outputs": [
    {
     "name": "stderr",
     "output_type": "stream",
     "text": [
      "WARNING:param.panel_extension: A HoloViz extension was loaded previously. This means the extension is already initialized and the following Panel extensions could not be properly loaded: ['plotly']. If you are loading custom extensions with pn.extension(...) ensure that this is called before any other HoloViz extension such as hvPlot or HoloViews.\n"
     ]
    }
   ],
   "source": [
    "pn.extension('plotly')"
   ]
  },
  {
   "cell_type": "code",
<<<<<<< HEAD
   "execution_count": 11,
=======
   "execution_count": 8,
>>>>>>> c047ff522d839d6516657cff3bb7a00fe3728485
>>>>>>> e99051600d5ded51646cf49b12aaaf7a249448e1
   "metadata": {},
   "outputs": [],
   "source": [
    "import hvplot.pandas"
   ]
  },
  {
   "cell_type": "code",
<<<<<<< HEAD
>>>>>>> f9b7699f869c9bc88585c8abdd01e33872db63bf
=======
>>>>>>> c047ff522d839d6516657cff3bb7a00fe3728485
   "execution_count": null,
   "metadata": {},
   "outputs": [],
   "source": [
    "tech_monte_carlo_plot = px.bar(\n",
    "    transactions_by_year, x=\"years\", y=\"sales\", title=\"Alleghany Sales by Year\"\n",
    ")"
   ]
  }
 ],
 "metadata": {
  "kernelspec": {
<<<<<<< HEAD
<<<<<<< HEAD
   "display_name": "Python [conda env:pyvizenv] *",
=======
   "display_name": "Python [conda env:pyvizenv]",
>>>>>>> f9b7699f869c9bc88585c8abdd01e33872db63bf
=======
   "display_name": "Python [conda env:pyvizenv]",
>>>>>>> c047ff522d839d6516657cff3bb7a00fe3728485
   "language": "python",
   "name": "conda-env-pyvizenv-py"
  },
  "language_info": {
   "codemirror_mode": {
    "name": "ipython",
    "version": 3
   },
   "file_extension": ".py",
   "mimetype": "text/x-python",
   "name": "python",
   "nbconvert_exporter": "python",
   "pygments_lexer": "ipython3",
   "version": "3.7.7"
  }
 },
 "nbformat": 4,
 "nbformat_minor": 4
}
